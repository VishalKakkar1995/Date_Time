{
 "cells": [
  {
   "cell_type": "code",
   "execution_count": 1,
   "metadata": {},
   "outputs": [],
   "source": [
    "from datetime import datetime\n",
    "from datetime import date\n",
    "from datetime import time\n",
    "import pandas as pd\n",
    "import numpy as ny\n"
   ]
  },
  {
   "cell_type": "markdown",
   "metadata": {},
   "source": [
    "#### 1. Write a Python script to display the\n",
    "#### a. Current date and time\n",
    "#### b. Current year\n",
    "#### c. Month of year\n",
    "#### d. Week number of the year\n",
    "#### e. Weekday of the week\n",
    "#### f. Day of year\n",
    "#### g. Day of the month\n",
    "#### h. Day of week"
   ]
  },
  {
   "cell_type": "code",
   "execution_count": 2,
   "metadata": {},
   "outputs": [
    {
     "name": "stdout",
     "output_type": "stream",
     "text": [
      "Todays date using date library is -- 2020-03-27\n",
      "Todays date using datetime library and now fn is -- 2020-03-27 12:03:44.905829\n",
      "1.a Current time using datetime library is -- 12:03:44.905829\n"
     ]
    }
   ],
   "source": [
    "today=date.today()\n",
    "\n",
    "\n",
    "print(\"Todays date using date library is --\",today)\n",
    "\n",
    "\n",
    "todayn=datetime.now()\n",
    "\n",
    "print(\"Todays date using datetime library and now fn is --\",todayn)\n",
    "\n",
    "\n",
    "time=datetime.time(datetime.now())\n",
    "\n",
    "\n",
    "print(\"1.a Current time using datetime library is --\",time)"
   ]
  },
  {
   "cell_type": "code",
   "execution_count": 3,
   "metadata": {},
   "outputs": [
    {
     "name": "stdout",
     "output_type": "stream",
     "text": [
      "Current Year is ----   2020\n",
      "\n",
      "\n",
      "1.b The year is 2020 Using Strftime \n"
     ]
    }
   ],
   "source": [
    "print(\"Current Year is ----  \",todayn.year)\n",
    "\n",
    "print(\"\\n\")\n",
    "\n",
    "print(\"1.b The year is\",today.strftime(\"%Y\"),\"Using Strftime \")"
   ]
  },
  {
   "cell_type": "code",
   "execution_count": 4,
   "metadata": {},
   "outputs": [
    {
     "name": "stdout",
     "output_type": "stream",
     "text": [
      " Current Month is -  Mar \n",
      " Which is reprsented by number -  3\n",
      "1.c Current month using Strftime -  March\n"
     ]
    }
   ],
   "source": [
    "M=todayn.month\n",
    "\n",
    "Month=[\"Jan\",\"Feb\",\"Mar\",\"Apr\",\"May\",\"June\",\"July\",\"Aug\",\"Sep\",\"Oct\",\"Nov\",\"Dec\"]\n",
    "\n",
    "print(\" Current Month is - \",Month[M-1],\"\\n\",\"Which is reprsented by number - \",M)\n",
    "\n",
    "print(\"1.c Current month using Strftime - \",today.strftime(\"%B\"))"
   ]
  },
  {
   "cell_type": "code",
   "execution_count": 5,
   "metadata": {},
   "outputs": [
    {
     "name": "stdout",
     "output_type": "stream",
     "text": [
      "1.d The current week is - 13 for date 2020-03-27\n"
     ]
    }
   ],
   "source": [
    "print(\"1.d The current week is -\",todayn.strftime(\"%V\"), \"for date\", today)"
   ]
  },
  {
   "cell_type": "code",
   "execution_count": 6,
   "metadata": {},
   "outputs": [
    {
     "name": "stdout",
     "output_type": "stream",
     "text": [
      "1.e Today is Friday\n"
     ]
    }
   ],
   "source": [
    "print(\"1.e Today is\",todayn.strftime(\"%A\"))"
   ]
  },
  {
   "cell_type": "code",
   "execution_count": 7,
   "metadata": {},
   "outputs": [
    {
     "name": "stdout",
     "output_type": "stream",
     "text": [
      "1.f Today is 27 Using general syntax\n",
      "\n",
      "\n",
      "Today is 27 Using Strftime \n"
     ]
    }
   ],
   "source": [
    "print(\"1.f Today is\",today.day,\"Using general syntax\")\n",
    "\n",
    "print(\"\\n\")\n",
    "\n",
    "print(\"Today is\",today.strftime(\"%d\"),\"Using Strftime \")"
   ]
  },
  {
   "cell_type": "code",
   "execution_count": 8,
   "metadata": {},
   "outputs": [
    {
     "name": "stdout",
     "output_type": "stream",
     "text": [
      "1.g The month is  3 Using general syntax i.e. Mar\n",
      "\n",
      "\n",
      "The month is 03 Using Strftime i.e. Mar\n"
     ]
    }
   ],
   "source": [
    "print(\"1.g The month is \",today.month,\"Using general syntax i.e.\",today.strftime(\"%b\"))\n",
    "\n",
    "print(\"\\n\")\n",
    "\n",
    "print(\"The month is\",today.strftime(\"%m\"),\"Using Strftime i.e.\",today.strftime(\"%b\"))"
   ]
  },
  {
   "cell_type": "code",
   "execution_count": 9,
   "metadata": {},
   "outputs": [
    {
     "name": "stdout",
     "output_type": "stream",
     "text": [
      "1.h The day is  Friday\n"
     ]
    }
   ],
   "source": [
    "print(\"1.h The day is \",today.strftime(\"%A\"))"
   ]
  },
  {
   "cell_type": "markdown",
   "metadata": {},
   "source": [
    "#### 2. Write a Python program to convert a string to datetime.\n",
    "Sample String : Jan 1 2014 2:43PM \n",
    "\n",
    "Expected Output : 2014-07-01 14:43:00"
   ]
  },
  {
   "cell_type": "code",
   "execution_count": 15,
   "metadata": {},
   "outputs": [
    {
     "name": "stdout",
     "output_type": "stream",
     "text": [
      "2014-01-01 14:43:00\n"
     ]
    }
   ],
   "source": [
    "q1=pd.to_datetime('Jan 1 2014 2:43PM')\n",
    "\n",
    "print(q1)"
   ]
  },
  {
   "cell_type": "markdown",
   "metadata": {},
   "source": [
    "#### 3. Write a Python program to subtract five days from current date.\n",
    "\n",
    "Current Date : 2015-06-22\n",
    "\n",
    "5 days before Current Date : 2015-06-17"
   ]
  },
  {
   "cell_type": "code",
   "execution_count": 12,
   "metadata": {},
   "outputs": [
    {
     "name": "stdout",
     "output_type": "stream",
     "text": [
      "The original date was  2015-06-22 00:00:00\n",
      "\n",
      "\n",
      "The new date is  2015-06-17 00:00:00\n"
     ]
    }
   ],
   "source": [
    "current_date=pd.to_datetime('2015-06-22',format='%Y-%m-%d')\n",
    "\n",
    "t1=pd.DateOffset(-5)\n",
    "\n",
    "new_date=current_date+t1\n",
    "\n",
    "print(\"The original date was \",current_date)\n",
    "\n",
    "print(\"\\n\")\n",
    "\n",
    "print(\"The new date is \",new_date)"
   ]
  },
  {
   "cell_type": "markdown",
   "metadata": {},
   "source": [
    "#### 4. Write a Python program to convert unix timestamp string to readable date.\n",
    "\n",
    "Sample Unix timestamp string : 1284105682\n",
    "    \n",
    "Expected Output : 2010-09-10 13:31:22"
   ]
  },
  {
   "cell_type": "code",
   "execution_count": 14,
   "metadata": {},
   "outputs": [
    {
     "name": "stdout",
     "output_type": "stream",
     "text": [
      " Expected Output=  2010-09-10 08:01:22\n"
     ]
    }
   ],
   "source": [
    "a=pd.Timestamp(1284105682,unit='s')\n",
    "\n",
    "print(\" Expected Output= \",a)"
   ]
  },
  {
   "cell_type": "markdown",
   "metadata": {},
   "source": [
    "#### 5. Convert the below Series to pandas datetime : \n",
    "\n",
    "DoB = pd.Series([\"07Sep59\",\"01Jan55\",\"15Dec47\",\"11Jul42\"])\n",
    "\n",
    "Make sure that the year is 19XX not 20XX"
   ]
  },
  {
   "cell_type": "code",
   "execution_count": 11,
   "metadata": {},
   "outputs": [
    {
     "data": {
      "text/plain": [
       "0   1959-09-07\n",
       "1   1955-01-01\n",
       "2   1947-12-15\n",
       "3   1942-07-11\n",
       "dtype: datetime64[ns]"
      ]
     },
     "execution_count": 11,
     "metadata": {},
     "output_type": "execute_result"
    }
   ],
   "source": [
    "DoB= pd.Series([\"07Sep59\",\"01Jan55\",\"15Dec47\",\"11Jul42\"])\n",
    "\n",
    "DoB = DoB.str[:-2]+'19'+DoB.str[-2:]\n",
    "\n",
    "pd.to_datetime(DoB,format='%d%b%Y')"
   ]
  },
  {
   "cell_type": "markdown",
   "metadata": {},
   "source": [
    "#### 6. Write a Python program to get days between two dates. "
   ]
  },
  {
   "cell_type": "code",
   "execution_count": 13,
   "metadata": {},
   "outputs": [
    {
     "name": "stdout",
     "output_type": "stream",
     "text": [
      "The difference between the two days is  193\n"
     ]
    }
   ],
   "source": [
    "a=pd.to_datetime('22-02-2019',format='%d-%m-%Y')\n",
    "\n",
    "b=pd.to_datetime('3-09-2019',format='%d-%m-%Y')\n",
    "\n",
    "c=b-a\n",
    "\n",
    "print(\"The difference between the two days is \",c.days)"
   ]
  },
  {
   "cell_type": "markdown",
   "metadata": {},
   "source": [
    "#### 7. Convert the below date to datetime and then change its display format using the .dt module\n",
    "\n",
    "Date = \"15Dec1989\"\n",
    "\n",
    "Result : \"Friday, 15 Dec 98\""
   ]
  },
  {
   "cell_type": "code",
   "execution_count": 10,
   "metadata": {},
   "outputs": [
    {
     "name": "stdout",
     "output_type": "stream",
     "text": [
      "Result:  Friday, 15 Dec 89\n"
     ]
    }
   ],
   "source": [
    "Date = \"15Dec1989\"\n",
    "\n",
    "a=pd.to_datetime(Date)\n",
    "\n",
    "b=a.strftime(\"%A, %d %b %y\")\n",
    "\n",
    "print(\"Result: \",b)"
   ]
  }
 ],
 "metadata": {
  "kernelspec": {
   "display_name": "Python 3",
   "language": "python",
   "name": "python3"
  },
  "language_info": {
   "codemirror_mode": {
    "name": "ipython",
    "version": 3
   },
   "file_extension": ".py",
   "mimetype": "text/x-python",
   "name": "python",
   "nbconvert_exporter": "python",
   "pygments_lexer": "ipython3",
   "version": "3.7.3"
  }
 },
 "nbformat": 4,
 "nbformat_minor": 2
}
